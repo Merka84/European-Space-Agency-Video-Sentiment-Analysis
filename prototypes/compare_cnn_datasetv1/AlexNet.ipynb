{
  "nbformat": 4,
  "nbformat_minor": 0,
  "metadata": {
    "colab": {
      "name": "ravdess alexnet.ipynb",
      "provenance": [],
      "collapsed_sections": []
    },
    "kernelspec": {
      "name": "python3",
      "display_name": "Python 3"
    },
    "accelerator": "GPU"
  },
  "cells": [
    {
      "cell_type": "code",
      "metadata": {
        "id": "2oTudgCKg6OL",
        "outputId": "73f4495d-0376-46ea-eb1b-3b9f68c8c5c0",
        "colab": {
          "base_uri": "https://localhost:8080/",
          "height": 1000
        }
      },
      "source": [
        "!pip install tensorflow==2.2.0"
      ],
      "execution_count": 2,
      "outputs": [
        {
          "output_type": "stream",
          "text": [
            "Collecting tensorflow==2.2.0\n",
            "\u001b[?25l  Downloading https://files.pythonhosted.org/packages/3d/be/679ce5254a8c8d07470efb4a4c00345fae91f766e64f1c2aece8796d7218/tensorflow-2.2.0-cp36-cp36m-manylinux2010_x86_64.whl (516.2MB)\n",
            "\u001b[K     |████████████████████████████████| 516.2MB 32kB/s \n",
            "\u001b[?25hRequirement already satisfied: google-pasta>=0.1.8 in /usr/local/lib/python3.6/dist-packages (from tensorflow==2.2.0) (0.2.0)\n",
            "Requirement already satisfied: opt-einsum>=2.3.2 in /usr/local/lib/python3.6/dist-packages (from tensorflow==2.2.0) (3.3.0)\n",
            "Requirement already satisfied: numpy<2.0,>=1.16.0 in /usr/local/lib/python3.6/dist-packages (from tensorflow==2.2.0) (1.18.5)\n",
            "Requirement already satisfied: grpcio>=1.8.6 in /usr/local/lib/python3.6/dist-packages (from tensorflow==2.2.0) (1.33.1)\n",
            "Requirement already satisfied: protobuf>=3.8.0 in /usr/local/lib/python3.6/dist-packages (from tensorflow==2.2.0) (3.12.4)\n",
            "Requirement already satisfied: six>=1.12.0 in /usr/local/lib/python3.6/dist-packages (from tensorflow==2.2.0) (1.15.0)\n",
            "Requirement already satisfied: keras-preprocessing>=1.1.0 in /usr/local/lib/python3.6/dist-packages (from tensorflow==2.2.0) (1.1.2)\n",
            "Collecting tensorflow-estimator<2.3.0,>=2.2.0\n",
            "\u001b[?25l  Downloading https://files.pythonhosted.org/packages/a4/f5/926ae53d6a226ec0fda5208e0e581cffed895ccc89e36ba76a8e60895b78/tensorflow_estimator-2.2.0-py2.py3-none-any.whl (454kB)\n",
            "\u001b[K     |████████████████████████████████| 460kB 51.4MB/s \n",
            "\u001b[?25hRequirement already satisfied: h5py<2.11.0,>=2.10.0 in /usr/local/lib/python3.6/dist-packages (from tensorflow==2.2.0) (2.10.0)\n",
            "Requirement already satisfied: wrapt>=1.11.1 in /usr/local/lib/python3.6/dist-packages (from tensorflow==2.2.0) (1.12.1)\n",
            "Requirement already satisfied: absl-py>=0.7.0 in /usr/local/lib/python3.6/dist-packages (from tensorflow==2.2.0) (0.10.0)\n",
            "Collecting tensorboard<2.3.0,>=2.2.0\n",
            "\u001b[?25l  Downloading https://files.pythonhosted.org/packages/1d/74/0a6fcb206dcc72a6da9a62dd81784bfdbff5fedb099982861dc2219014fb/tensorboard-2.2.2-py3-none-any.whl (3.0MB)\n",
            "\u001b[K     |████████████████████████████████| 3.0MB 48.8MB/s \n",
            "\u001b[?25hRequirement already satisfied: wheel>=0.26; python_version >= \"3\" in /usr/local/lib/python3.6/dist-packages (from tensorflow==2.2.0) (0.35.1)\n",
            "Requirement already satisfied: scipy==1.4.1; python_version >= \"3\" in /usr/local/lib/python3.6/dist-packages (from tensorflow==2.2.0) (1.4.1)\n",
            "Requirement already satisfied: termcolor>=1.1.0 in /usr/local/lib/python3.6/dist-packages (from tensorflow==2.2.0) (1.1.0)\n",
            "Requirement already satisfied: gast==0.3.3 in /usr/local/lib/python3.6/dist-packages (from tensorflow==2.2.0) (0.3.3)\n",
            "Requirement already satisfied: astunparse==1.6.3 in /usr/local/lib/python3.6/dist-packages (from tensorflow==2.2.0) (1.6.3)\n",
            "Requirement already satisfied: setuptools in /usr/local/lib/python3.6/dist-packages (from protobuf>=3.8.0->tensorflow==2.2.0) (50.3.2)\n",
            "Requirement already satisfied: requests<3,>=2.21.0 in /usr/local/lib/python3.6/dist-packages (from tensorboard<2.3.0,>=2.2.0->tensorflow==2.2.0) (2.23.0)\n",
            "Requirement already satisfied: google-auth<2,>=1.6.3 in /usr/local/lib/python3.6/dist-packages (from tensorboard<2.3.0,>=2.2.0->tensorflow==2.2.0) (1.17.2)\n",
            "Requirement already satisfied: google-auth-oauthlib<0.5,>=0.4.1 in /usr/local/lib/python3.6/dist-packages (from tensorboard<2.3.0,>=2.2.0->tensorflow==2.2.0) (0.4.1)\n",
            "Requirement already satisfied: werkzeug>=0.11.15 in /usr/local/lib/python3.6/dist-packages (from tensorboard<2.3.0,>=2.2.0->tensorflow==2.2.0) (1.0.1)\n",
            "Requirement already satisfied: tensorboard-plugin-wit>=1.6.0 in /usr/local/lib/python3.6/dist-packages (from tensorboard<2.3.0,>=2.2.0->tensorflow==2.2.0) (1.7.0)\n",
            "Requirement already satisfied: markdown>=2.6.8 in /usr/local/lib/python3.6/dist-packages (from tensorboard<2.3.0,>=2.2.0->tensorflow==2.2.0) (3.3.2)\n",
            "Requirement already satisfied: certifi>=2017.4.17 in /usr/local/lib/python3.6/dist-packages (from requests<3,>=2.21.0->tensorboard<2.3.0,>=2.2.0->tensorflow==2.2.0) (2020.6.20)\n",
            "Requirement already satisfied: urllib3!=1.25.0,!=1.25.1,<1.26,>=1.21.1 in /usr/local/lib/python3.6/dist-packages (from requests<3,>=2.21.0->tensorboard<2.3.0,>=2.2.0->tensorflow==2.2.0) (1.24.3)\n",
            "Requirement already satisfied: chardet<4,>=3.0.2 in /usr/local/lib/python3.6/dist-packages (from requests<3,>=2.21.0->tensorboard<2.3.0,>=2.2.0->tensorflow==2.2.0) (3.0.4)\n",
            "Requirement already satisfied: idna<3,>=2.5 in /usr/local/lib/python3.6/dist-packages (from requests<3,>=2.21.0->tensorboard<2.3.0,>=2.2.0->tensorflow==2.2.0) (2.10)\n",
            "Requirement already satisfied: pyasn1-modules>=0.2.1 in /usr/local/lib/python3.6/dist-packages (from google-auth<2,>=1.6.3->tensorboard<2.3.0,>=2.2.0->tensorflow==2.2.0) (0.2.8)\n",
            "Requirement already satisfied: cachetools<5.0,>=2.0.0 in /usr/local/lib/python3.6/dist-packages (from google-auth<2,>=1.6.3->tensorboard<2.3.0,>=2.2.0->tensorflow==2.2.0) (4.1.1)\n",
            "Requirement already satisfied: rsa<5,>=3.1.4; python_version >= \"3\" in /usr/local/lib/python3.6/dist-packages (from google-auth<2,>=1.6.3->tensorboard<2.3.0,>=2.2.0->tensorflow==2.2.0) (4.6)\n",
            "Requirement already satisfied: requests-oauthlib>=0.7.0 in /usr/local/lib/python3.6/dist-packages (from google-auth-oauthlib<0.5,>=0.4.1->tensorboard<2.3.0,>=2.2.0->tensorflow==2.2.0) (1.3.0)\n",
            "Requirement already satisfied: importlib-metadata; python_version < \"3.8\" in /usr/local/lib/python3.6/dist-packages (from markdown>=2.6.8->tensorboard<2.3.0,>=2.2.0->tensorflow==2.2.0) (2.0.0)\n",
            "Requirement already satisfied: pyasn1<0.5.0,>=0.4.6 in /usr/local/lib/python3.6/dist-packages (from pyasn1-modules>=0.2.1->google-auth<2,>=1.6.3->tensorboard<2.3.0,>=2.2.0->tensorflow==2.2.0) (0.4.8)\n",
            "Requirement already satisfied: oauthlib>=3.0.0 in /usr/local/lib/python3.6/dist-packages (from requests-oauthlib>=0.7.0->google-auth-oauthlib<0.5,>=0.4.1->tensorboard<2.3.0,>=2.2.0->tensorflow==2.2.0) (3.1.0)\n",
            "Requirement already satisfied: zipp>=0.5 in /usr/local/lib/python3.6/dist-packages (from importlib-metadata; python_version < \"3.8\"->markdown>=2.6.8->tensorboard<2.3.0,>=2.2.0->tensorflow==2.2.0) (3.3.1)\n",
            "Installing collected packages: tensorflow-estimator, tensorboard, tensorflow\n",
            "  Found existing installation: tensorflow-estimator 2.3.0\n",
            "    Uninstalling tensorflow-estimator-2.3.0:\n",
            "      Successfully uninstalled tensorflow-estimator-2.3.0\n",
            "  Found existing installation: tensorboard 2.3.0\n",
            "    Uninstalling tensorboard-2.3.0:\n",
            "      Successfully uninstalled tensorboard-2.3.0\n",
            "  Found existing installation: tensorflow 2.3.0\n",
            "    Uninstalling tensorflow-2.3.0:\n",
            "      Successfully uninstalled tensorflow-2.3.0\n",
            "Successfully installed tensorboard-2.2.2 tensorflow-2.2.0 tensorflow-estimator-2.2.0\n"
          ],
          "name": "stdout"
        },
        {
          "output_type": "display_data",
          "data": {
            "application/vnd.colab-display-data+json": {
              "pip_warning": {
                "packages": [
                  "tensorboard",
                  "tensorflow"
                ]
              }
            }
          },
          "metadata": {
            "tags": []
          }
        }
      ]
    },
    {
      "cell_type": "code",
      "metadata": {
        "id": "Clk59E4ziH8w"
      },
      "source": [
        "import tensorflow as tf\n",
        "\n",
        "from tensorflow.keras.preprocessing.image import ImageDataGenerator\n",
        "from tensorflow.keras.models import Sequential\n",
        "from tensorflow.keras.layers import Conv2D, MaxPooling2D, Dense, Dropout, Activation, Flatten\n",
        "from tensorflow.keras.callbacks import ModelCheckpoint, EarlyStopping\n",
        "\n",
        "from tensorflow import keras\n",
        "\n",
        "import zipfile"
      ],
      "execution_count": 7,
      "outputs": []
    },
    {
      "cell_type": "code",
      "metadata": {
        "id": "d9K02n-_ldlX",
        "outputId": "b62a7456-4a33-4da9-b46f-766cb1643e8c",
        "colab": {
          "base_uri": "https://localhost:8080/"
        }
      },
      "source": [
        "print(tf.__version__)"
      ],
      "execution_count": 8,
      "outputs": [
        {
          "output_type": "stream",
          "text": [
            "2.2.0\n"
          ],
          "name": "stdout"
        }
      ]
    },
    {
      "cell_type": "code",
      "metadata": {
        "id": "WdpJXUNWlgU9"
      },
      "source": [
        "zip_ref = zipfile.ZipFile(\"/content/drive/My Drive/ravdess/vid_frame.zip\", 'r')\n",
        "zip_ref.extractall(\"/content/emotion\")\n",
        "zip_ref.close()"
      ],
      "execution_count": 9,
      "outputs": []
    },
    {
      "cell_type": "code",
      "metadata": {
        "id": "GVkawk6Mm_j7"
      },
      "source": [
        "TRAINING_DIR = \"/content/emotion/training/\"\n",
        "VALIDATION_DIR = \"/content/emotion/validation/\""
      ],
      "execution_count": 10,
      "outputs": []
    },
    {
      "cell_type": "code",
      "metadata": {
        "id": "IBo88YHBnL84",
        "outputId": "b44de053-0172-458d-90b0-d22061748c08",
        "colab": {
          "base_uri": "https://localhost:8080/"
        }
      },
      "source": [
        "# train_data_dir = 'drive/My Drive/Colab Notebooks/frames-only_face_dataset/'\n",
        "batch_size = 64\n",
        "\n",
        "train_datagen = ImageDataGenerator(rescale=1./255,\n",
        "    shear_range=0.0,\n",
        "    zoom_range=0.0,\n",
        "    horizontal_flip=False)\n",
        "#     validation_split=0.1) # set validation split\n",
        "\n",
        "train_generator = train_datagen.flow_from_directory(\n",
        "    TRAINING_DIR,\n",
        "    target_size=(227, 227),\n",
        "    batch_size=batch_size,\n",
        "    class_mode='categorical')\n",
        "#     subset='training') # set as training data\n",
        "\n",
        "val_datagen = ImageDataGenerator(rescale=1./255,\n",
        "    shear_range=0.0,\n",
        "    zoom_range=0.0,\n",
        "    horizontal_flip=False)\n",
        "\n",
        "validation_generator = val_datagen.flow_from_directory(\n",
        "    VALIDATION_DIR, \n",
        "    target_size=(227, 227),\n",
        "    batch_size=batch_size,\n",
        "    class_mode='categorical')\n",
        "#     subset='validation') # set as validation data"
      ],
      "execution_count": 11,
      "outputs": [
        {
          "output_type": "stream",
          "text": [
            "Found 52314 images belonging to 8 classes.\n",
            "Found 5550 images belonging to 8 classes.\n"
          ],
          "name": "stdout"
        }
      ]
    },
    {
      "cell_type": "code",
      "metadata": {
        "id": "mdDKEoevnidY",
        "outputId": "95e14bda-9822-4074-9bd7-bf08fcb442ce",
        "colab": {
          "base_uri": "https://localhost:8080/"
        }
      },
      "source": [
        "print(train_generator)"
      ],
      "execution_count": 12,
      "outputs": [
        {
          "output_type": "stream",
          "text": [
            "<keras_preprocessing.image.directory_iterator.DirectoryIterator object at 0x7f76c0776e80>\n"
          ],
          "name": "stdout"
        }
      ]
    },
    {
      "cell_type": "code",
      "metadata": {
        "id": "I1FUY_IHny9E"
      },
      "source": [
        "#AlexNet\n",
        "def createModel():\n",
        "\n",
        "    input_shape = (227, 227, 3)\n",
        "    num_classes = 8\n",
        "\n",
        "    #Instantiation\n",
        "    AlexNet = Sequential()\n",
        "\n",
        "    AlexNet.add(Conv2D(96, kernel_size=(11,11), strides= 4,\n",
        "                        padding= 'valid', activation= 'relu',\n",
        "                        input_shape= input_shape,\n",
        "                        kernel_initializer= 'he_normal'))\n",
        "    AlexNet.add(MaxPooling2D(pool_size=(3,3), strides= (2,2),\n",
        "                              padding= 'valid', data_format= None))\n",
        "\n",
        "    AlexNet.add(Conv2D(256, kernel_size=(5,5), strides= 1,\n",
        "                        padding= 'same', activation= 'relu',\n",
        "                        kernel_initializer= 'he_normal'))\n",
        "    AlexNet.add(MaxPooling2D(pool_size=(3,3), strides= (2,2),\n",
        "                              padding= 'valid', data_format= None)) \n",
        "\n",
        "    AlexNet.add(Conv2D(384, kernel_size=(3,3), strides= 1,\n",
        "                        padding= 'same', activation= 'relu',\n",
        "                        kernel_initializer= 'he_normal'))\n",
        "\n",
        "    AlexNet.add(Conv2D(384, kernel_size=(3,3), strides= 1,\n",
        "                        padding= 'same', activation= 'relu',\n",
        "                        kernel_initializer= 'he_normal'))\n",
        "\n",
        "    AlexNet.add(Conv2D(256, kernel_size=(3,3), strides= 1,\n",
        "                        padding= 'same', activation= 'relu',\n",
        "                        kernel_initializer= 'he_normal'))\n",
        "\n",
        "    AlexNet.add(MaxPooling2D(pool_size=(3,3), strides= (2,2),\n",
        "                              padding= 'valid', data_format= None))\n",
        "\n",
        "    AlexNet.add(Flatten())\n",
        "    AlexNet.add(Dense(4096, activation= 'relu'))\n",
        "    AlexNet.add(Dense(4096, activation= 'relu'))\n",
        "    AlexNet.add(Dense(1000, activation= 'relu'))\n",
        "    AlexNet.add(Dense(num_classes, activation= 'softmax'))\n",
        "\n",
        "    return AlexNet"
      ],
      "execution_count": 18,
      "outputs": []
    },
    {
      "cell_type": "code",
      "metadata": {
        "id": "NqK9ZFLmp054"
      },
      "source": [
        "model = createModel()"
      ],
      "execution_count": 23,
      "outputs": []
    },
    {
      "cell_type": "code",
      "metadata": {
        "id": "mnaoS_-Up8gB",
        "outputId": "7220c50a-9e65-4815-93f0-1a474c8ec5f4",
        "colab": {
          "base_uri": "https://localhost:8080/"
        }
      },
      "source": [
        "model.summary()"
      ],
      "execution_count": 24,
      "outputs": [
        {
          "output_type": "stream",
          "text": [
            "Model: \"sequential_2\"\n",
            "_________________________________________________________________\n",
            "Layer (type)                 Output Shape              Param #   \n",
            "=================================================================\n",
            "conv2d_10 (Conv2D)           (None, 55, 55, 96)        34944     \n",
            "_________________________________________________________________\n",
            "max_pooling2d_6 (MaxPooling2 (None, 27, 27, 96)        0         \n",
            "_________________________________________________________________\n",
            "conv2d_11 (Conv2D)           (None, 27, 27, 256)       614656    \n",
            "_________________________________________________________________\n",
            "max_pooling2d_7 (MaxPooling2 (None, 13, 13, 256)       0         \n",
            "_________________________________________________________________\n",
            "conv2d_12 (Conv2D)           (None, 13, 13, 384)       885120    \n",
            "_________________________________________________________________\n",
            "conv2d_13 (Conv2D)           (None, 13, 13, 384)       1327488   \n",
            "_________________________________________________________________\n",
            "conv2d_14 (Conv2D)           (None, 13, 13, 256)       884992    \n",
            "_________________________________________________________________\n",
            "max_pooling2d_8 (MaxPooling2 (None, 6, 6, 256)         0         \n",
            "_________________________________________________________________\n",
            "flatten_2 (Flatten)          (None, 9216)              0         \n",
            "_________________________________________________________________\n",
            "dense_8 (Dense)              (None, 4096)              37752832  \n",
            "_________________________________________________________________\n",
            "dense_9 (Dense)              (None, 4096)              16781312  \n",
            "_________________________________________________________________\n",
            "dense_10 (Dense)             (None, 1000)              4097000   \n",
            "_________________________________________________________________\n",
            "dense_11 (Dense)             (None, 8)                 8008      \n",
            "=================================================================\n",
            "Total params: 62,386,352\n",
            "Trainable params: 62,386,352\n",
            "Non-trainable params: 0\n",
            "_________________________________________________________________\n"
          ],
          "name": "stdout"
        }
      ]
    },
    {
      "cell_type": "code",
      "metadata": {
        "id": "YUvg8dvCp_gJ",
        "outputId": "63bf3f3b-dac0-485b-cc37-174e224f525b",
        "colab": {
          "base_uri": "https://localhost:8080/"
        }
      },
      "source": [
        "#Creating 2nd model and training(fitting)\n",
        "\n",
        "model.compile(optimizer='adam', loss='categorical_crossentropy', metrics=['accuracy'])\n",
        " \n",
        "batch_size = 128\n",
        "_epochs = 100\n",
        "\n",
        "# Fit the model on the batches generated by datagen.flow().\n",
        "'''history = model.fit_generator(\n",
        "    train_generator,\n",
        "    steps_per_epoch = train_generator.samples // batch_size,\n",
        "    validation_data = validation_generator, \n",
        "    validation_steps = validation_generator.samples // batch_size,\n",
        "    epochs = 15)'''\n",
        "\n",
        "filepath = 'drive/My Drive/AlexNet.h5'\n",
        "earlyStop = EarlyStopping(monitor='val_accuracy', mode='max', verbose=1, patience=30)\n",
        "checkpoint = ModelCheckpoint(filepath, monitor='val_accuracy', mode='max', verbose=1, save_best_only=True)\n",
        "callbacks_list = [earlyStop, checkpoint]\n",
        "\n",
        "model.fit(\n",
        "        train_generator,\n",
        "        steps_per_epoch=train_generator.samples // batch_size,\n",
        "        epochs=_epochs,\n",
        "        validation_data=validation_generator,\n",
        "        validation_steps=validation_generator.samples // batch_size,\n",
        "        callbacks=callbacks_list)"
      ],
      "execution_count": 25,
      "outputs": [
        {
          "output_type": "stream",
          "text": [
            "Epoch 1/100\n",
            "408/408 [==============================] - ETA: 0s - loss: 2.1134 - accuracy: 0.2556\n",
            "Epoch 00001: val_accuracy improved from -inf to 0.22057, saving model to drive/My Drive/AlexNet.h5\n",
            "408/408 [==============================] - 69s 168ms/step - loss: 2.1134 - accuracy: 0.2556 - val_loss: 2.0724 - val_accuracy: 0.2206\n",
            "Epoch 2/100\n",
            "408/408 [==============================] - ETA: 0s - loss: 1.3952 - accuracy: 0.4719\n",
            "Epoch 00002: val_accuracy improved from 0.22057 to 0.28052, saving model to drive/My Drive/AlexNet.h5\n",
            "408/408 [==============================] - 72s 176ms/step - loss: 1.3952 - accuracy: 0.4719 - val_loss: 2.1053 - val_accuracy: 0.2805\n",
            "Epoch 3/100\n",
            "408/408 [==============================] - ETA: 0s - loss: 1.0166 - accuracy: 0.6287\n",
            "Epoch 00003: val_accuracy improved from 0.28052 to 0.36301, saving model to drive/My Drive/AlexNet.h5\n",
            "408/408 [==============================] - 72s 176ms/step - loss: 1.0166 - accuracy: 0.6287 - val_loss: 2.4092 - val_accuracy: 0.3630\n",
            "Epoch 4/100\n",
            "408/408 [==============================] - ETA: 0s - loss: 0.7432 - accuracy: 0.7325\n",
            "Epoch 00004: val_accuracy improved from 0.36301 to 0.38772, saving model to drive/My Drive/AlexNet.h5\n",
            "408/408 [==============================] - 71s 175ms/step - loss: 0.7432 - accuracy: 0.7325 - val_loss: 2.4421 - val_accuracy: 0.3877\n",
            "Epoch 5/100\n",
            "408/408 [==============================] - ETA: 0s - loss: 0.6208 - accuracy: 0.7783\n",
            "Epoch 00005: val_accuracy did not improve from 0.38772\n",
            "408/408 [==============================] - 67s 163ms/step - loss: 0.6208 - accuracy: 0.7783 - val_loss: 2.3362 - val_accuracy: 0.3623\n",
            "Epoch 6/100\n",
            "408/408 [==============================] - ETA: 0s - loss: 0.5225 - accuracy: 0.8143\n",
            "Epoch 00006: val_accuracy improved from 0.38772 to 0.39826, saving model to drive/My Drive/AlexNet.h5\n",
            "408/408 [==============================] - 71s 174ms/step - loss: 0.5225 - accuracy: 0.8143 - val_loss: 2.3539 - val_accuracy: 0.3983\n",
            "Epoch 7/100\n",
            "408/408 [==============================] - ETA: 0s - loss: 0.4671 - accuracy: 0.8359\n",
            "Epoch 00007: val_accuracy did not improve from 0.39826\n",
            "408/408 [==============================] - 66s 163ms/step - loss: 0.4671 - accuracy: 0.8359 - val_loss: 2.5162 - val_accuracy: 0.3310\n",
            "Epoch 8/100\n",
            "408/408 [==============================] - ETA: 0s - loss: 0.4068 - accuracy: 0.8539\n",
            "Epoch 00008: val_accuracy did not improve from 0.39826\n",
            "408/408 [==============================] - 65s 160ms/step - loss: 0.4068 - accuracy: 0.8539 - val_loss: 2.7527 - val_accuracy: 0.3685\n",
            "Epoch 9/100\n",
            "408/408 [==============================] - ETA: 0s - loss: 0.3706 - accuracy: 0.8686\n",
            "Epoch 00009: val_accuracy did not improve from 0.39826\n",
            "408/408 [==============================] - 64s 157ms/step - loss: 0.3706 - accuracy: 0.8686 - val_loss: 2.6784 - val_accuracy: 0.3717\n",
            "Epoch 10/100\n",
            "408/408 [==============================] - ETA: 0s - loss: 0.3376 - accuracy: 0.8820\n",
            "Epoch 00010: val_accuracy did not improve from 0.39826\n",
            "408/408 [==============================] - 64s 157ms/step - loss: 0.3376 - accuracy: 0.8820 - val_loss: 2.5725 - val_accuracy: 0.3863\n",
            "Epoch 11/100\n",
            "408/408 [==============================] - ETA: 0s - loss: 0.3154 - accuracy: 0.8891\n",
            "Epoch 00011: val_accuracy did not improve from 0.39826\n",
            "408/408 [==============================] - 64s 157ms/step - loss: 0.3154 - accuracy: 0.8891 - val_loss: 2.3024 - val_accuracy: 0.3979\n",
            "Epoch 12/100\n",
            "408/408 [==============================] - ETA: 0s - loss: 0.2987 - accuracy: 0.8950\n",
            "Epoch 00012: val_accuracy did not improve from 0.39826\n",
            "408/408 [==============================] - 63s 156ms/step - loss: 0.2987 - accuracy: 0.8950 - val_loss: 2.2892 - val_accuracy: 0.3983\n",
            "Epoch 13/100\n",
            "408/408 [==============================] - ETA: 0s - loss: 0.2639 - accuracy: 0.9077\n",
            "Epoch 00013: val_accuracy did not improve from 0.39826\n",
            "408/408 [==============================] - 64s 157ms/step - loss: 0.2639 - accuracy: 0.9077 - val_loss: 3.1498 - val_accuracy: 0.3347\n",
            "Epoch 14/100\n",
            "408/408 [==============================] - ETA: 0s - loss: 0.2617 - accuracy: 0.9058\n",
            "Epoch 00014: val_accuracy did not improve from 0.39826\n",
            "408/408 [==============================] - 64s 156ms/step - loss: 0.2617 - accuracy: 0.9058 - val_loss: 2.8007 - val_accuracy: 0.3921\n",
            "Epoch 15/100\n",
            "408/408 [==============================] - ETA: 0s - loss: 0.2333 - accuracy: 0.9175\n",
            "Epoch 00015: val_accuracy improved from 0.39826 to 0.39971, saving model to drive/My Drive/AlexNet.h5\n",
            "408/408 [==============================] - 71s 175ms/step - loss: 0.2333 - accuracy: 0.9175 - val_loss: 2.5844 - val_accuracy: 0.3997\n",
            "Epoch 16/100\n",
            "408/408 [==============================] - ETA: 0s - loss: 0.2289 - accuracy: 0.9179\n",
            "Epoch 00016: val_accuracy did not improve from 0.39971\n",
            "408/408 [==============================] - 65s 159ms/step - loss: 0.2289 - accuracy: 0.9179 - val_loss: 2.6346 - val_accuracy: 0.3670\n",
            "Epoch 17/100\n",
            "408/408 [==============================] - ETA: 0s - loss: 0.2175 - accuracy: 0.9214\n",
            "Epoch 00017: val_accuracy did not improve from 0.39971\n",
            "408/408 [==============================] - 64s 156ms/step - loss: 0.2175 - accuracy: 0.9214 - val_loss: 3.0314 - val_accuracy: 0.3717\n",
            "Epoch 18/100\n",
            "408/408 [==============================] - ETA: 0s - loss: 0.2109 - accuracy: 0.9267\n",
            "Epoch 00018: val_accuracy improved from 0.39971 to 0.41642, saving model to drive/My Drive/AlexNet.h5\n",
            "408/408 [==============================] - 71s 175ms/step - loss: 0.2109 - accuracy: 0.9267 - val_loss: 2.8043 - val_accuracy: 0.4164\n",
            "Epoch 19/100\n",
            "408/408 [==============================] - ETA: 0s - loss: 0.1970 - accuracy: 0.9319\n",
            "Epoch 00019: val_accuracy did not improve from 0.41642\n",
            "408/408 [==============================] - 64s 157ms/step - loss: 0.1970 - accuracy: 0.9319 - val_loss: 2.8955 - val_accuracy: 0.3485\n",
            "Epoch 20/100\n",
            "408/408 [==============================] - ETA: 0s - loss: 0.1896 - accuracy: 0.9312\n",
            "Epoch 00020: val_accuracy did not improve from 0.41642\n",
            "408/408 [==============================] - 64s 156ms/step - loss: 0.1896 - accuracy: 0.9312 - val_loss: 3.3448 - val_accuracy: 0.3063\n",
            "Epoch 21/100\n",
            "408/408 [==============================] - ETA: 0s - loss: 0.1801 - accuracy: 0.9361\n",
            "Epoch 00021: val_accuracy did not improve from 0.41642\n",
            "408/408 [==============================] - 64s 156ms/step - loss: 0.1801 - accuracy: 0.9361 - val_loss: 3.0951 - val_accuracy: 0.3572\n",
            "Epoch 22/100\n",
            "408/408 [==============================] - ETA: 0s - loss: 0.1737 - accuracy: 0.9391\n",
            "Epoch 00022: val_accuracy did not improve from 0.41642\n",
            "408/408 [==============================] - 64s 157ms/step - loss: 0.1737 - accuracy: 0.9391 - val_loss: 3.2763 - val_accuracy: 0.3819\n",
            "Epoch 23/100\n",
            "408/408 [==============================] - ETA: 0s - loss: 0.1678 - accuracy: 0.9421\n",
            "Epoch 00023: val_accuracy did not improve from 0.41642\n",
            "408/408 [==============================] - 65s 159ms/step - loss: 0.1678 - accuracy: 0.9421 - val_loss: 3.5640 - val_accuracy: 0.3579\n",
            "Epoch 24/100\n",
            "408/408 [==============================] - ETA: 0s - loss: 0.1672 - accuracy: 0.9409\n",
            "Epoch 00024: val_accuracy improved from 0.41642 to 0.42478, saving model to drive/My Drive/AlexNet.h5\n",
            "408/408 [==============================] - 72s 178ms/step - loss: 0.1672 - accuracy: 0.9409 - val_loss: 3.3729 - val_accuracy: 0.4248\n",
            "Epoch 25/100\n",
            "408/408 [==============================] - ETA: 0s - loss: 0.1640 - accuracy: 0.9427\n",
            "Epoch 00025: val_accuracy did not improve from 0.42478\n",
            "408/408 [==============================] - 67s 164ms/step - loss: 0.1640 - accuracy: 0.9427 - val_loss: 2.8396 - val_accuracy: 0.3888\n",
            "Epoch 26/100\n",
            "408/408 [==============================] - ETA: 0s - loss: 0.1515 - accuracy: 0.9469\n",
            "Epoch 00026: val_accuracy did not improve from 0.42478\n",
            "408/408 [==============================] - 66s 162ms/step - loss: 0.1515 - accuracy: 0.9469 - val_loss: 3.5722 - val_accuracy: 0.3296\n",
            "Epoch 27/100\n",
            "408/408 [==============================] - ETA: 0s - loss: 0.1442 - accuracy: 0.9489\n",
            "Epoch 00027: val_accuracy did not improve from 0.42478\n",
            "408/408 [==============================] - 66s 161ms/step - loss: 0.1442 - accuracy: 0.9489 - val_loss: 2.9499 - val_accuracy: 0.3808\n",
            "Epoch 28/100\n",
            "408/408 [==============================] - ETA: 0s - loss: 0.1355 - accuracy: 0.9536\n",
            "Epoch 00028: val_accuracy did not improve from 0.42478\n",
            "408/408 [==============================] - 66s 161ms/step - loss: 0.1355 - accuracy: 0.9536 - val_loss: 3.1933 - val_accuracy: 0.3924\n",
            "Epoch 29/100\n",
            "408/408 [==============================] - ETA: 0s - loss: 0.1376 - accuracy: 0.9549\n",
            "Epoch 00029: val_accuracy did not improve from 0.42478\n",
            "408/408 [==============================] - 66s 162ms/step - loss: 0.1376 - accuracy: 0.9549 - val_loss: 2.8046 - val_accuracy: 0.4041\n",
            "Epoch 30/100\n",
            "408/408 [==============================] - ETA: 0s - loss: 0.1496 - accuracy: 0.9481\n",
            "Epoch 00030: val_accuracy did not improve from 0.42478\n",
            "408/408 [==============================] - 66s 162ms/step - loss: 0.1496 - accuracy: 0.9481 - val_loss: 3.2484 - val_accuracy: 0.3859\n",
            "Epoch 31/100\n",
            "408/408 [==============================] - ETA: 0s - loss: 0.1271 - accuracy: 0.9565\n",
            "Epoch 00031: val_accuracy did not improve from 0.42478\n",
            "408/408 [==============================] - 66s 162ms/step - loss: 0.1271 - accuracy: 0.9565 - val_loss: 3.2862 - val_accuracy: 0.3626\n",
            "Epoch 32/100\n",
            "408/408 [==============================] - ETA: 0s - loss: 0.1208 - accuracy: 0.9578\n",
            "Epoch 00032: val_accuracy improved from 0.42478 to 0.42660, saving model to drive/My Drive/AlexNet.h5\n",
            "408/408 [==============================] - 71s 175ms/step - loss: 0.1208 - accuracy: 0.9578 - val_loss: 3.2577 - val_accuracy: 0.4266\n",
            "Epoch 33/100\n",
            "408/408 [==============================] - ETA: 0s - loss: 0.1192 - accuracy: 0.9583\n",
            "Epoch 00033: val_accuracy did not improve from 0.42660\n",
            "408/408 [==============================] - 66s 163ms/step - loss: 0.1192 - accuracy: 0.9583 - val_loss: 3.7071 - val_accuracy: 0.3946\n",
            "Epoch 34/100\n",
            "408/408 [==============================] - ETA: 0s - loss: 0.1343 - accuracy: 0.9532\n",
            "Epoch 00034: val_accuracy did not improve from 0.42660\n",
            "408/408 [==============================] - 66s 161ms/step - loss: 0.1343 - accuracy: 0.9532 - val_loss: 2.7883 - val_accuracy: 0.4172\n",
            "Epoch 35/100\n",
            "408/408 [==============================] - ETA: 0s - loss: 0.1189 - accuracy: 0.9612\n",
            "Epoch 00035: val_accuracy did not improve from 0.42660\n",
            "408/408 [==============================] - 65s 160ms/step - loss: 0.1189 - accuracy: 0.9612 - val_loss: 4.5541 - val_accuracy: 0.3525\n",
            "Epoch 36/100\n",
            "408/408 [==============================] - ETA: 0s - loss: 0.1154 - accuracy: 0.9607\n",
            "Epoch 00036: val_accuracy did not improve from 0.42660\n",
            "408/408 [==============================] - 65s 159ms/step - loss: 0.1154 - accuracy: 0.9607 - val_loss: 3.0824 - val_accuracy: 0.3819\n",
            "Epoch 37/100\n",
            "408/408 [==============================] - ETA: 0s - loss: 0.1127 - accuracy: 0.9616\n",
            "Epoch 00037: val_accuracy improved from 0.42660 to 0.46257, saving model to drive/My Drive/AlexNet.h5\n",
            "408/408 [==============================] - 71s 175ms/step - loss: 0.1127 - accuracy: 0.9616 - val_loss: 3.0125 - val_accuracy: 0.4626\n",
            "Epoch 38/100\n",
            "408/408 [==============================] - ETA: 0s - loss: 0.1242 - accuracy: 0.9577\n",
            "Epoch 00038: val_accuracy did not improve from 0.46257\n",
            "408/408 [==============================] - 66s 162ms/step - loss: 0.1242 - accuracy: 0.9577 - val_loss: 3.1340 - val_accuracy: 0.3768\n",
            "Epoch 39/100\n",
            "408/408 [==============================] - ETA: 0s - loss: 0.1025 - accuracy: 0.9655\n",
            "Epoch 00039: val_accuracy did not improve from 0.46257\n",
            "408/408 [==============================] - 65s 159ms/step - loss: 0.1025 - accuracy: 0.9655 - val_loss: 2.8666 - val_accuracy: 0.4375\n",
            "Epoch 40/100\n",
            "408/408 [==============================] - ETA: 0s - loss: 0.1046 - accuracy: 0.9645\n",
            "Epoch 00040: val_accuracy did not improve from 0.46257\n",
            "408/408 [==============================] - 64s 157ms/step - loss: 0.1046 - accuracy: 0.9645 - val_loss: 2.8423 - val_accuracy: 0.4295\n",
            "Epoch 41/100\n",
            "408/408 [==============================] - ETA: 0s - loss: 0.1112 - accuracy: 0.9620\n",
            "Epoch 00041: val_accuracy did not improve from 0.46257\n",
            "408/408 [==============================] - 64s 157ms/step - loss: 0.1112 - accuracy: 0.9620 - val_loss: 3.4057 - val_accuracy: 0.4618\n",
            "Epoch 42/100\n",
            "408/408 [==============================] - ETA: 0s - loss: 0.1130 - accuracy: 0.9613\n",
            "Epoch 00042: val_accuracy did not improve from 0.46257\n",
            "408/408 [==============================] - 64s 158ms/step - loss: 0.1130 - accuracy: 0.9613 - val_loss: 3.3530 - val_accuracy: 0.4288\n",
            "Epoch 43/100\n",
            "408/408 [==============================] - ETA: 0s - loss: 0.0987 - accuracy: 0.9671\n",
            "Epoch 00043: val_accuracy improved from 0.46257 to 0.46657, saving model to drive/My Drive/AlexNet.h5\n",
            "408/408 [==============================] - 70s 173ms/step - loss: 0.0987 - accuracy: 0.9671 - val_loss: 2.6085 - val_accuracy: 0.4666\n",
            "Epoch 44/100\n",
            "408/408 [==============================] - ETA: 0s - loss: 0.1045 - accuracy: 0.9645\n",
            "Epoch 00044: val_accuracy did not improve from 0.46657\n",
            "408/408 [==============================] - 66s 162ms/step - loss: 0.1045 - accuracy: 0.9645 - val_loss: 2.4737 - val_accuracy: 0.4375\n",
            "Epoch 45/100\n",
            "408/408 [==============================] - ETA: 0s - loss: 0.0926 - accuracy: 0.9702\n",
            "Epoch 00045: val_accuracy did not improve from 0.46657\n",
            "408/408 [==============================] - 65s 159ms/step - loss: 0.0926 - accuracy: 0.9702 - val_loss: 2.7975 - val_accuracy: 0.4528\n",
            "Epoch 46/100\n",
            "408/408 [==============================] - ETA: 0s - loss: 0.1105 - accuracy: 0.9639\n",
            "Epoch 00046: val_accuracy did not improve from 0.46657\n",
            "408/408 [==============================] - 65s 159ms/step - loss: 0.1105 - accuracy: 0.9639 - val_loss: 3.6405 - val_accuracy: 0.3732\n",
            "Epoch 47/100\n",
            "408/408 [==============================] - ETA: 0s - loss: 0.0839 - accuracy: 0.9709\n",
            "Epoch 00047: val_accuracy did not improve from 0.46657\n",
            "408/408 [==============================] - 65s 159ms/step - loss: 0.0839 - accuracy: 0.9709 - val_loss: 3.9230 - val_accuracy: 0.3961\n",
            "Epoch 48/100\n",
            "408/408 [==============================] - ETA: 0s - loss: 0.0918 - accuracy: 0.9691\n",
            "Epoch 00048: val_accuracy did not improve from 0.46657\n",
            "408/408 [==============================] - 65s 159ms/step - loss: 0.0918 - accuracy: 0.9691 - val_loss: 3.4880 - val_accuracy: 0.4135\n",
            "Epoch 49/100\n",
            "408/408 [==============================] - ETA: 0s - loss: 0.0981 - accuracy: 0.9679\n",
            "Epoch 00049: val_accuracy did not improve from 0.46657\n",
            "408/408 [==============================] - 65s 159ms/step - loss: 0.0981 - accuracy: 0.9679 - val_loss: 3.5978 - val_accuracy: 0.3939\n",
            "Epoch 50/100\n",
            "408/408 [==============================] - ETA: 0s - loss: 0.0917 - accuracy: 0.9692\n",
            "Epoch 00050: val_accuracy did not improve from 0.46657\n",
            "408/408 [==============================] - 65s 159ms/step - loss: 0.0917 - accuracy: 0.9692 - val_loss: 3.5176 - val_accuracy: 0.3950\n",
            "Epoch 51/100\n",
            "408/408 [==============================] - ETA: 0s - loss: 0.0829 - accuracy: 0.9710\n",
            "Epoch 00051: val_accuracy did not improve from 0.46657\n",
            "408/408 [==============================] - 65s 159ms/step - loss: 0.0829 - accuracy: 0.9710 - val_loss: 3.0562 - val_accuracy: 0.4259\n",
            "Epoch 52/100\n",
            "408/408 [==============================] - ETA: 0s - loss: 0.0913 - accuracy: 0.9693\n",
            "Epoch 00052: val_accuracy did not improve from 0.46657\n",
            "408/408 [==============================] - 64s 158ms/step - loss: 0.0913 - accuracy: 0.9693 - val_loss: 2.8383 - val_accuracy: 0.4306\n",
            "Epoch 53/100\n",
            "408/408 [==============================] - ETA: 0s - loss: 0.0761 - accuracy: 0.9745\n",
            "Epoch 00053: val_accuracy did not improve from 0.46657\n",
            "408/408 [==============================] - 65s 159ms/step - loss: 0.0761 - accuracy: 0.9745 - val_loss: 5.6111 - val_accuracy: 0.3172\n",
            "Epoch 54/100\n",
            "408/408 [==============================] - ETA: 0s - loss: 0.0862 - accuracy: 0.9719\n",
            "Epoch 00054: val_accuracy did not improve from 0.46657\n",
            "408/408 [==============================] - 65s 158ms/step - loss: 0.0862 - accuracy: 0.9719 - val_loss: 4.0757 - val_accuracy: 0.3699\n",
            "Epoch 55/100\n",
            "408/408 [==============================] - ETA: 0s - loss: 0.0877 - accuracy: 0.9718\n",
            "Epoch 00055: val_accuracy did not improve from 0.46657\n",
            "408/408 [==============================] - 65s 159ms/step - loss: 0.0877 - accuracy: 0.9718 - val_loss: 4.4981 - val_accuracy: 0.4004\n",
            "Epoch 56/100\n",
            "408/408 [==============================] - ETA: 0s - loss: 0.0948 - accuracy: 0.9695\n",
            "Epoch 00056: val_accuracy did not improve from 0.46657\n",
            "408/408 [==============================] - 65s 159ms/step - loss: 0.0948 - accuracy: 0.9695 - val_loss: 4.1364 - val_accuracy: 0.3703\n",
            "Epoch 57/100\n",
            "408/408 [==============================] - ETA: 0s - loss: 0.0843 - accuracy: 0.9729\n",
            "Epoch 00057: val_accuracy did not improve from 0.46657\n",
            "408/408 [==============================] - 65s 160ms/step - loss: 0.0843 - accuracy: 0.9729 - val_loss: 3.8546 - val_accuracy: 0.4052\n",
            "Epoch 58/100\n",
            "408/408 [==============================] - ETA: 0s - loss: 0.0658 - accuracy: 0.9782\n",
            "Epoch 00058: val_accuracy did not improve from 0.46657\n",
            "408/408 [==============================] - 65s 159ms/step - loss: 0.0658 - accuracy: 0.9782 - val_loss: 3.6746 - val_accuracy: 0.4244\n",
            "Epoch 59/100\n",
            "408/408 [==============================] - ETA: 0s - loss: 0.0897 - accuracy: 0.9709\n",
            "Epoch 00059: val_accuracy did not improve from 0.46657\n",
            "408/408 [==============================] - 65s 159ms/step - loss: 0.0897 - accuracy: 0.9709 - val_loss: 3.2768 - val_accuracy: 0.4281\n",
            "Epoch 60/100\n",
            "408/408 [==============================] - ETA: 0s - loss: 0.0870 - accuracy: 0.9710\n",
            "Epoch 00060: val_accuracy did not improve from 0.46657\n",
            "408/408 [==============================] - 65s 160ms/step - loss: 0.0870 - accuracy: 0.9710 - val_loss: 3.0872 - val_accuracy: 0.4480\n",
            "Epoch 61/100\n",
            "408/408 [==============================] - ETA: 0s - loss: 0.0732 - accuracy: 0.9767\n",
            "Epoch 00061: val_accuracy did not improve from 0.46657\n",
            "408/408 [==============================] - 65s 160ms/step - loss: 0.0732 - accuracy: 0.9767 - val_loss: 5.0256 - val_accuracy: 0.3946\n",
            "Epoch 62/100\n",
            "408/408 [==============================] - ETA: 0s - loss: 0.0811 - accuracy: 0.9751\n",
            "Epoch 00062: val_accuracy did not improve from 0.46657\n",
            "408/408 [==============================] - 65s 160ms/step - loss: 0.0811 - accuracy: 0.9751 - val_loss: 4.2127 - val_accuracy: 0.4001\n",
            "Epoch 63/100\n",
            "408/408 [==============================] - ETA: 0s - loss: 0.0928 - accuracy: 0.9697\n",
            "Epoch 00063: val_accuracy did not improve from 0.46657\n",
            "408/408 [==============================] - 65s 160ms/step - loss: 0.0928 - accuracy: 0.9697 - val_loss: 3.2524 - val_accuracy: 0.4459\n",
            "Epoch 64/100\n",
            "408/408 [==============================] - ETA: 0s - loss: 0.0572 - accuracy: 0.9814\n",
            "Epoch 00064: val_accuracy did not improve from 0.46657\n",
            "408/408 [==============================] - 65s 160ms/step - loss: 0.0572 - accuracy: 0.9814 - val_loss: 3.5047 - val_accuracy: 0.4350\n",
            "Epoch 65/100\n",
            "408/408 [==============================] - ETA: 0s - loss: 0.0623 - accuracy: 0.9794\n",
            "Epoch 00065: val_accuracy did not improve from 0.46657\n",
            "408/408 [==============================] - 65s 160ms/step - loss: 0.0623 - accuracy: 0.9794 - val_loss: 3.3712 - val_accuracy: 0.4357\n",
            "Epoch 66/100\n",
            "408/408 [==============================] - ETA: 0s - loss: 0.0807 - accuracy: 0.9746\n",
            "Epoch 00066: val_accuracy did not improve from 0.46657\n",
            "408/408 [==============================] - 65s 159ms/step - loss: 0.0807 - accuracy: 0.9746 - val_loss: 3.5541 - val_accuracy: 0.4237\n",
            "Epoch 67/100\n",
            "408/408 [==============================] - ETA: 0s - loss: 0.1369 - accuracy: 0.9588\n",
            "Epoch 00067: val_accuracy did not improve from 0.46657\n",
            "408/408 [==============================] - 65s 159ms/step - loss: 0.1369 - accuracy: 0.9588 - val_loss: 3.0546 - val_accuracy: 0.4382\n",
            "Epoch 68/100\n",
            "408/408 [==============================] - ETA: 0s - loss: 0.0855 - accuracy: 0.9731\n",
            "Epoch 00068: val_accuracy did not improve from 0.46657\n",
            "408/408 [==============================] - 65s 158ms/step - loss: 0.0855 - accuracy: 0.9731 - val_loss: 3.6597 - val_accuracy: 0.4353\n",
            "Epoch 69/100\n",
            "408/408 [==============================] - ETA: 0s - loss: 0.0547 - accuracy: 0.9818\n",
            "Epoch 00069: val_accuracy did not improve from 0.46657\n",
            "408/408 [==============================] - 65s 159ms/step - loss: 0.0547 - accuracy: 0.9818 - val_loss: 3.3744 - val_accuracy: 0.4568\n",
            "Epoch 70/100\n",
            "408/408 [==============================] - ETA: 0s - loss: 0.0637 - accuracy: 0.9789\n",
            "Epoch 00070: val_accuracy did not improve from 0.46657\n",
            "408/408 [==============================] - 64s 158ms/step - loss: 0.0637 - accuracy: 0.9789 - val_loss: 4.0759 - val_accuracy: 0.4059\n",
            "Epoch 71/100\n",
            "408/408 [==============================] - ETA: 0s - loss: 0.0581 - accuracy: 0.9818\n",
            "Epoch 00071: val_accuracy did not improve from 0.46657\n",
            "408/408 [==============================] - 64s 158ms/step - loss: 0.0581 - accuracy: 0.9818 - val_loss: 3.2690 - val_accuracy: 0.4073\n",
            "Epoch 72/100\n",
            "408/408 [==============================] - ETA: 0s - loss: 0.0793 - accuracy: 0.9753\n",
            "Epoch 00072: val_accuracy did not improve from 0.46657\n",
            "408/408 [==============================] - 65s 159ms/step - loss: 0.0793 - accuracy: 0.9753 - val_loss: 4.4615 - val_accuracy: 0.3695\n",
            "Epoch 73/100\n",
            "408/408 [==============================] - ETA: 0s - loss: 0.0791 - accuracy: 0.9762\n",
            "Epoch 00073: val_accuracy did not improve from 0.46657\n",
            "408/408 [==============================] - 65s 159ms/step - loss: 0.0791 - accuracy: 0.9762 - val_loss: 3.3382 - val_accuracy: 0.4193\n",
            "Epoch 00073: early stopping\n"
          ],
          "name": "stdout"
        },
        {
          "output_type": "execute_result",
          "data": {
            "text/plain": [
              "<tensorflow.python.keras.callbacks.History at 0x7f76bad00048>"
            ]
          },
          "metadata": {
            "tags": []
          },
          "execution_count": 25
        }
      ]
    },
    {
      "cell_type": "code",
      "metadata": {
        "id": "hqLrr7hmtsq5",
        "outputId": "b0a5434a-513a-48e9-dfa0-e8b164493d7e",
        "colab": {
          "base_uri": "https://localhost:8080/"
        }
      },
      "source": [
        "model.evaluate(validation_generator)"
      ],
      "execution_count": 26,
      "outputs": [
        {
          "output_type": "stream",
          "text": [
            "87/87 [==============================] - 11s 124ms/step - loss: 3.3402 - accuracy: 0.4234\n"
          ],
          "name": "stdout"
        },
        {
          "output_type": "execute_result",
          "data": {
            "text/plain": [
              "[3.340196371078491, 0.4234234094619751]"
            ]
          },
          "metadata": {
            "tags": []
          },
          "execution_count": 26
        }
      ]
    },
    {
      "cell_type": "code",
      "metadata": {
        "id": "QVSQFzqIJI2Q",
        "outputId": "167bbaba-f4c9-468e-833b-9b05282bbbb3",
        "colab": {
          "base_uri": "https://localhost:8080/"
        }
      },
      "source": [
        "TESTING_DIR = \"/content/emotion/testing/\"\n",
        "\n",
        "test_datagen = ImageDataGenerator(rescale=1./255)\n",
        "\n",
        "testing_generator = test_datagen.flow_from_directory(\n",
        "    TESTING_DIR, # same directory as training data\n",
        "    target_size= (227,227),\n",
        "    batch_size= batch_size,\n",
        "    class_mode='categorical')\n",
        "\n",
        "model.evaluate(testing_generator)"
      ],
      "execution_count": 28,
      "outputs": [
        {
          "output_type": "stream",
          "text": [
            "Found 5528 images belonging to 8 classes.\n",
            "44/44 [==============================] - 13s 287ms/step - loss: 4.3743 - accuracy: 0.3663\n"
          ],
          "name": "stdout"
        },
        {
          "output_type": "execute_result",
          "data": {
            "text/plain": [
              "[4.374259948730469, 0.36631694436073303]"
            ]
          },
          "metadata": {
            "tags": []
          },
          "execution_count": 28
        }
      ]
    },
    {
      "cell_type": "code",
      "metadata": {
        "id": "JJyiO-JXJRdo"
      },
      "source": [
        "read_model = keras.models.load_model(\"/content/drive/My Drive/AlexNet.h5\")"
      ],
      "execution_count": 29,
      "outputs": []
    },
    {
      "cell_type": "code",
      "metadata": {
        "id": "0o9rLjmdJ5bd",
        "outputId": "05e2cce4-3f9a-4599-c04c-27cb908eccb3",
        "colab": {
          "base_uri": "https://localhost:8080/"
        }
      },
      "source": [
        "read_model.evaluate(testing_generator)"
      ],
      "execution_count": 30,
      "outputs": [
        {
          "output_type": "stream",
          "text": [
            "44/44 [==============================] - 10s 233ms/step - loss: 3.6840 - accuracy: 0.4175\n"
          ],
          "name": "stdout"
        },
        {
          "output_type": "execute_result",
          "data": {
            "text/plain": [
              "[3.683985948562622, 0.41751086711883545]"
            ]
          },
          "metadata": {
            "tags": []
          },
          "execution_count": 30
        }
      ]
    },
    {
      "cell_type": "code",
      "metadata": {
        "id": "FLO1PIi4J_BR",
        "outputId": "276a377b-dad4-4fc3-bb41-ea5267700e90",
        "colab": {
          "base_uri": "https://localhost:8080/"
        }
      },
      "source": [
        "read_model.evaluate(validation_generator)"
      ],
      "execution_count": 32,
      "outputs": [
        {
          "output_type": "stream",
          "text": [
            "87/87 [==============================] - 11s 121ms/step - loss: 2.5869 - accuracy: 0.4668\n"
          ],
          "name": "stdout"
        },
        {
          "output_type": "execute_result",
          "data": {
            "text/plain": [
              "[2.586928367614746, 0.46684685349464417]"
            ]
          },
          "metadata": {
            "tags": []
          },
          "execution_count": 32
        }
      ]
    },
    {
      "cell_type": "code",
      "metadata": {
        "id": "I_s6gnYAKP4s"
      },
      "source": [
        ""
      ],
      "execution_count": null,
      "outputs": []
    }
  ]
}